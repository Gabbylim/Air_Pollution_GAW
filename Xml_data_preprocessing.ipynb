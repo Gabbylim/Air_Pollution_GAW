{
 "cells": [
  {
   "cell_type": "code",
   "execution_count": 1,
   "id": "b5643ce9-0471-45be-80ed-9d80f9329fca",
   "metadata": {},
   "outputs": [],
   "source": [
    "#libraries\n",
    "import os\n",
    "import xml.etree.ElementTree as ET\n",
    "import glob\n",
    "import csv\n",
    "import pandas as pd\n"
   ]
  },
  {
   "cell_type": "code",
   "execution_count": 2,
   "id": "55b55c4e-a1e3-4e90-a26c-08f6be2e25c9",
   "metadata": {},
   "outputs": [
    {
     "data": {
      "text/plain": [
       "['dat_files',\n",
       " 'OifParameters.xml',\n",
       " 'SatelliteOrbit.xml',\n",
       " 'CalculatedOzone.xml',\n",
       " 'untitled.md',\n",
       " '.git',\n",
       " 'VersionInfo.xml',\n",
       " '.ipynb_checkpoints',\n",
       " 'SoundingMetadata.xml',\n",
       " 'GpsResults.xml',\n",
       " 'README.md',\n",
       " 'PtuResults.xml',\n",
       " 'Untitled.ipynb',\n",
       " 'MessageInformation.xml',\n",
       " 'SystemEvents.xml',\n",
       " 'MessageParameters.xml',\n",
       " 'AdditionalSensorData.xml',\n",
       " 'GpsRawMeasurements.xml',\n",
       " 'MessageTransmissionInfo.xml',\n",
       " 'RawPtu.xml',\n",
       " 'MessageTransmissionLog.xml',\n",
       " 'Radiosondes.xml',\n",
       " 'GroundCheckValues.xml',\n",
       " 'MessageCounters.xml',\n",
       " 'StdPressureLevels.xml',\n",
       " 'SoundingParameters.xml',\n",
       " 'SignificantLevels.xml',\n",
       " 'SynchronizedSoundingData.xml',\n",
       " 'IonoCorrections.xml',\n",
       " 'StabilityIndex.xml',\n",
       " 'SatelliteStatus.xml',\n",
       " 'GSupport.xml',\n",
       " 'SurfaceObservations.xml',\n",
       " 'TelemetryData.xml',\n",
       " 'RawOzone.xml',\n",
       " 'RadioDiagnostics.xml',\n",
       " 'RawPtu.csv',\n",
       " 'OzoneResults.xml',\n",
       " 'WindResults.xml',\n",
       " 'GpsRawChannelData.xml']"
      ]
     },
     "execution_count": 2,
     "metadata": {},
     "output_type": "execute_result"
    }
   ],
   "source": [
    "os.listdir()\n",
    "#files = glob.glob('Raw*.xml')\n",
    "#raw ptu  std pressure  sychronomizes ionoCorrections stability index  rawozone ozone result wind results\n"
   ]
  },
  {
   "cell_type": "code",
   "execution_count": 10,
   "id": "903b044a-ff8b-4c47-9163-bfcf723daad2",
   "metadata": {},
   "outputs": [
    {
     "name": "stdout",
     "output_type": "stream",
     "text": [
      "the file tag is RawPtu\n"
     ]
    }
   ],
   "source": [
    "calculated_ozone = ET.parse('RawPtu.xml')\n",
    "calculated_ozone = calculated_ozone.getroot()\n",
    "print(f\"the file tag is {calculated_ozone.tag}\")"
   ]
  },
  {
   "cell_type": "code",
   "execution_count": 32,
   "id": "7f102e02-d3bf-4940-8505-4f3e1f8dd913",
   "metadata": {
    "scrolled": true
   },
   "outputs": [
    {
     "name": "stdout",
     "output_type": "stream",
     "text": [
      "OzoneResults.xml\n",
      "['SoundingIdPk', 'DataSrvTime', 'IntegratedOzone', 'ResidualOzone', 'SensorType', 'InterfaceType', 'SerialNumber', 'SzSerialNumber', 'Diagnostic', 'BgCurrentCorrMethod', 'SmoothingMethod', 'CalibrationPressure', 'BgCurrent', 'SolutionVolume', 'OzonePriorStart', 'PriorStartMeasDuration']\n"
     ]
    },
    {
     "data": {
      "text/html": [
       "<div>\n",
       "<style scoped>\n",
       "    .dataframe tbody tr th:only-of-type {\n",
       "        vertical-align: middle;\n",
       "    }\n",
       "\n",
       "    .dataframe tbody tr th {\n",
       "        vertical-align: top;\n",
       "    }\n",
       "\n",
       "    .dataframe thead th {\n",
       "        text-align: right;\n",
       "    }\n",
       "</style>\n",
       "<table border=\"1\" class=\"dataframe\">\n",
       "  <thead>\n",
       "    <tr style=\"text-align: right;\">\n",
       "      <th></th>\n",
       "      <th>SoundingIdPk</th>\n",
       "      <th>DataSrvTime</th>\n",
       "      <th>IntegratedOzone</th>\n",
       "      <th>ResidualOzone</th>\n",
       "      <th>SensorType</th>\n",
       "      <th>InterfaceType</th>\n",
       "      <th>SerialNumber</th>\n",
       "      <th>SzSerialNumber</th>\n",
       "      <th>Diagnostic</th>\n",
       "      <th>BgCurrentCorrMethod</th>\n",
       "      <th>SmoothingMethod</th>\n",
       "      <th>CalibrationPressure</th>\n",
       "      <th>BgCurrent</th>\n",
       "      <th>SolutionVolume</th>\n",
       "      <th>OzonePriorStart</th>\n",
       "      <th>PriorStartMeasDuration</th>\n",
       "    </tr>\n",
       "  </thead>\n",
       "  <tbody>\n",
       "    <tr>\n",
       "      <th>0</th>\n",
       "      <td>0b32758d-cc47-4343-afc3-82d454f20a05</td>\n",
       "      <td>2025-02-05T10:52:41.4433189</td>\n",
       "      <td>200.407364</td>\n",
       "      <td>25.244362</td>\n",
       "      <td>DMT-Z</td>\n",
       "      <td>OIF411</td>\n",
       "      <td>V2930509</td>\n",
       "      <td>43059</td>\n",
       "      <td>0</td>\n",
       "      <td>Constant</td>\n",
       "      <td>Median filter 9 samples</td>\n",
       "      <td>823.5</td>\n",
       "      <td>0.06</td>\n",
       "      <td>3</td>\n",
       "      <td>2.8341</td>\n",
       "      <td>0</td>\n",
       "    </tr>\n",
       "  </tbody>\n",
       "</table>\n",
       "</div>"
      ],
      "text/plain": [
       "                           SoundingIdPk                  DataSrvTime  \\\n",
       "0  0b32758d-cc47-4343-afc3-82d454f20a05  2025-02-05T10:52:41.4433189   \n",
       "\n",
       "   IntegratedOzone  ResidualOzone SensorType InterfaceType SerialNumber  \\\n",
       "0       200.407364      25.244362      DMT-Z        OIF411     V2930509   \n",
       "\n",
       "   SzSerialNumber  Diagnostic BgCurrentCorrMethod          SmoothingMethod  \\\n",
       "0           43059           0            Constant  Median filter 9 samples   \n",
       "\n",
       "   CalibrationPressure  BgCurrent  SolutionVolume  OzonePriorStart  \\\n",
       "0                823.5       0.06               3           2.8341   \n",
       "\n",
       "   PriorStartMeasDuration  \n",
       "0                       0  "
      ]
     },
     "execution_count": 32,
     "metadata": {},
     "output_type": "execute_result"
    }
   ],
   "source": [
    "#currently listing all the rows in the file\n",
    "header_started = False\n",
    "os.listdir()\n",
    "files = glob.glob('Ozone*.xml')\n",
    "print(files[0])\n",
    "data_started =False\n",
    "output_file = files[0].replace('xml','csv')\n",
    "fields =[]\n",
    "with open(files[0],'r')as infile ,open(output_file,'w',newline = '') as output:\n",
    " #write = csv.DictWriter(output,fieldnames = fields)\n",
    " infile = ET.parse(infile).getroot()\n",
    " for child in infile:\n",
    "    \n",
    "     if not header_started:\n",
    "       for i in child.attrib.keys():\n",
    "         fields.append(i)\n",
    "       header_started = True\n",
    "       #print(fields)\n",
    "       writer= csv.DictWriter(output,fieldnames = fields)\n",
    "       writer.writeheader()\n",
    "\n",
    "\n",
    "     writer.writerow(child.attrib)\n",
    "           \n",
    "           \n",
    "print(fields)\n",
    "df = pd.read_csv(output_file)\n",
    "df\n"
   ]
  },
  {
   "cell_type": "code",
   "execution_count": 26,
   "id": "47e6fdf5-1283-4040-85eb-2d90ccb6a016",
   "metadata": {},
   "outputs": [
    {
     "name": "stdout",
     "output_type": "stream",
     "text": [
      "thank you helena\n"
     ]
    }
   ],
   "source": [
    "print(\"thank you helena\")"
   ]
  },
  {
   "cell_type": "code",
   "execution_count": null,
   "id": "f2ead346-c3e9-4306-a0d8-e15948fc5392",
   "metadata": {},
   "outputs": [],
   "source": []
  },
  {
   "cell_type": "code",
   "execution_count": null,
   "id": "57b2ac7f-d3a8-4beb-a203-64293325b2e2",
   "metadata": {},
   "outputs": [],
   "source": []
  },
  {
   "cell_type": "code",
   "execution_count": null,
   "id": "8a13dc95-6e31-4923-b226-5328d843c294",
   "metadata": {},
   "outputs": [],
   "source": []
  },
  {
   "cell_type": "code",
   "execution_count": null,
   "id": "44fdabc9-0e0e-447e-a16a-2461a05a88c3",
   "metadata": {},
   "outputs": [],
   "source": []
  },
  {
   "cell_type": "code",
   "execution_count": null,
   "id": "5daa331d-09f0-47fb-bbcd-fc7cc9376959",
   "metadata": {},
   "outputs": [],
   "source": []
  },
  {
   "cell_type": "code",
   "execution_count": null,
   "id": "dc639e1a-677f-49d5-bea3-5c73296b4bbe",
   "metadata": {},
   "outputs": [],
   "source": []
  },
  {
   "cell_type": "code",
   "execution_count": null,
   "id": "5e3c8aa1-2bd1-404d-979f-d4c387f5d220",
   "metadata": {},
   "outputs": [],
   "source": []
  }
 ],
 "metadata": {
  "kernelspec": {
   "display_name": "Python 3 (ipykernel)",
   "language": "python",
   "name": "python3"
  },
  "language_info": {
   "codemirror_mode": {
    "name": "ipython",
    "version": 3
   },
   "file_extension": ".py",
   "mimetype": "text/x-python",
   "name": "python",
   "nbconvert_exporter": "python",
   "pygments_lexer": "ipython3",
   "version": "3.12.2"
  }
 },
 "nbformat": 4,
 "nbformat_minor": 5
}
